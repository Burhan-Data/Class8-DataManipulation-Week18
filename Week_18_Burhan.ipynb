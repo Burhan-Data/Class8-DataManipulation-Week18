{
 "cells": [
  {
   "cell_type": "code",
   "execution_count": 1,
   "id": "b052d6b0-000c-4210-9290-d755407b2789",
   "metadata": {},
   "outputs": [],
   "source": [
    "# Week 18 HomeWork Burhan Kabdayi"
   ]
  },
  {
   "cell_type": "code",
   "execution_count": 3,
   "id": "65421e01-7a0b-47bd-beb4-c70e7309c7cb",
   "metadata": {},
   "outputs": [],
   "source": [
    "import numpy as np\n",
    "import pandas as pd"
   ]
  },
  {
   "cell_type": "code",
   "execution_count": 4,
   "id": "0aebd43e-1e8a-42a0-b4e8-74bb89a9c216",
   "metadata": {},
   "outputs": [],
   "source": [
    "np.random.seed(42)"
   ]
  },
  {
   "cell_type": "code",
   "execution_count": null,
   "id": "b15696ce-9b90-42d8-accb-ddf53a0a47b1",
   "metadata": {},
   "outputs": [],
   "source": [
    "#1-Explain the difference between a vector and matrix in NumPy in one sentence.\n",
    "Vector is one dimension which is only one row or list. Matrix is a two dimensions which includes row and column. "
   ]
  },
  {
   "cell_type": "code",
   "execution_count": null,
   "id": "0c9cb1a8-1ddc-4eef-89a0-b2ea4a17773a",
   "metadata": {},
   "outputs": [],
   "source": [
    "# 2 - Construct a NumPy Array from a list of 10 elements."
   ]
  },
  {
   "cell_type": "code",
   "execution_count": 5,
   "id": "b2a6941c-c306-4d14-b70f-6ee442848e27",
   "metadata": {},
   "outputs": [],
   "source": [
    "my_array = np.array(range(10))"
   ]
  },
  {
   "cell_type": "code",
   "execution_count": 6,
   "id": "17b84373-f695-4e0c-91fc-6f99114aac38",
   "metadata": {},
   "outputs": [
    {
     "data": {
      "text/plain": [
       "array([0, 1, 2, 3, 4, 5, 6, 7, 8, 9])"
      ]
     },
     "execution_count": 6,
     "metadata": {},
     "output_type": "execute_result"
    }
   ],
   "source": [
    "my_array"
   ]
  },
  {
   "cell_type": "code",
   "execution_count": null,
   "id": "b19824f4-bf19-4f7a-9a9a-a130886b5007",
   "metadata": {},
   "outputs": [],
   "source": [
    "# 3 -Construct a 10x10 matrix filled with '0's of the integer data type."
   ]
  },
  {
   "cell_type": "code",
   "execution_count": 7,
   "id": "d3835100-a39e-4a78-87d5-e59dc2851cb1",
   "metadata": {},
   "outputs": [
    {
     "name": "stdout",
     "output_type": "stream",
     "text": [
      "[[0 0 0 0 0 0 0 0 0 0]\n",
      " [0 0 0 0 0 0 0 0 0 0]\n",
      " [0 0 0 0 0 0 0 0 0 0]\n",
      " [0 0 0 0 0 0 0 0 0 0]\n",
      " [0 0 0 0 0 0 0 0 0 0]\n",
      " [0 0 0 0 0 0 0 0 0 0]\n",
      " [0 0 0 0 0 0 0 0 0 0]\n",
      " [0 0 0 0 0 0 0 0 0 0]\n",
      " [0 0 0 0 0 0 0 0 0 0]\n",
      " [0 0 0 0 0 0 0 0 0 0]]\n"
     ]
    }
   ],
   "source": [
    "matrix = np.zeros((10, 10), dtype=int)\n",
    "print(matrix)"
   ]
  },
  {
   "cell_type": "code",
   "execution_count": null,
   "id": "5522f514-5b3f-4bfe-8d23-92c1ecf97765",
   "metadata": {},
   "outputs": [],
   "source": [
    "#4- Construct a 10x10 matrix filled with '1's, data type float."
   ]
  },
  {
   "cell_type": "code",
   "execution_count": null,
   "id": "e7f5baf1-bd2d-4a3b-8af1-c74953e41c48",
   "metadata": {},
   "outputs": [],
   "source": []
  },
  {
   "cell_type": "code",
   "execution_count": 8,
   "id": "9dc8cf1c-34b1-4d94-adaa-a65036a96145",
   "metadata": {},
   "outputs": [
    {
     "name": "stdout",
     "output_type": "stream",
     "text": [
      "[[1. 1. 1. 1. 1. 1. 1. 1. 1. 1.]\n",
      " [1. 1. 1. 1. 1. 1. 1. 1. 1. 1.]\n",
      " [1. 1. 1. 1. 1. 1. 1. 1. 1. 1.]\n",
      " [1. 1. 1. 1. 1. 1. 1. 1. 1. 1.]\n",
      " [1. 1. 1. 1. 1. 1. 1. 1. 1. 1.]\n",
      " [1. 1. 1. 1. 1. 1. 1. 1. 1. 1.]\n",
      " [1. 1. 1. 1. 1. 1. 1. 1. 1. 1.]\n",
      " [1. 1. 1. 1. 1. 1. 1. 1. 1. 1.]\n",
      " [1. 1. 1. 1. 1. 1. 1. 1. 1. 1.]\n",
      " [1. 1. 1. 1. 1. 1. 1. 1. 1. 1.]]\n"
     ]
    }
   ],
   "source": [
    "matrix1 = np.ones((10, 10), dtype=float)\n",
    "print(matrix1)"
   ]
  },
  {
   "cell_type": "code",
   "execution_count": null,
   "id": "e65704b6-40bc-4fd7-8a78-2bf70962f805",
   "metadata": {},
   "outputs": [],
   "source": [
    "#5- Construct a 10x10 matrix filled with '9's of the integer data type."
   ]
  },
  {
   "cell_type": "code",
   "execution_count": 10,
   "id": "13f36711-42ca-4a70-8b76-0eaaa5e3d474",
   "metadata": {},
   "outputs": [
    {
     "name": "stdout",
     "output_type": "stream",
     "text": [
      "[[9 9 9 9 9 9 9 9 9 9]\n",
      " [9 9 9 9 9 9 9 9 9 9]\n",
      " [9 9 9 9 9 9 9 9 9 9]\n",
      " [9 9 9 9 9 9 9 9 9 9]\n",
      " [9 9 9 9 9 9 9 9 9 9]\n",
      " [9 9 9 9 9 9 9 9 9 9]\n",
      " [9 9 9 9 9 9 9 9 9 9]\n",
      " [9 9 9 9 9 9 9 9 9 9]\n",
      " [9 9 9 9 9 9 9 9 9 9]\n",
      " [9 9 9 9 9 9 9 9 9 9]]\n"
     ]
    }
   ],
   "source": [
    "matrix2 = np.ones((10, 10), dtype=int)*9\n",
    "print(matrix2)"
   ]
  },
  {
   "cell_type": "code",
   "execution_count": null,
   "id": "64136663-e43d-4ac7-bc19-c8263dcfcc1d",
   "metadata": {},
   "outputs": [],
   "source": [
    "#6- Construct a one-dimensional array with values between 5 and 25 that jumps with steps of 3 ([5, 8, ...])"
   ]
  },
  {
   "cell_type": "code",
   "execution_count": 13,
   "id": "9c8e0828-507a-463b-806e-6b0a72646c66",
   "metadata": {},
   "outputs": [
    {
     "name": "stdout",
     "output_type": "stream",
     "text": [
      "[ 5  8 11 14 17 20 23]\n"
     ]
    }
   ],
   "source": [
    "array1 = np.arange(5, 26, 3)\n",
    "print(array1)"
   ]
  },
  {
   "cell_type": "code",
   "execution_count": null,
   "id": "c1164bf1-0081-45d0-b021-c462963229f5",
   "metadata": {},
   "outputs": [],
   "source": [
    "#7-Create an array of size 30 with evenly spaced values between -1 and 1."
   ]
  },
  {
   "cell_type": "code",
   "execution_count": 14,
   "id": "c94e17fc-d37b-4a5f-b2a5-17ea30458b01",
   "metadata": {},
   "outputs": [
    {
     "name": "stdout",
     "output_type": "stream",
     "text": [
      "[-1.         -0.93103448 -0.86206897 -0.79310345 -0.72413793 -0.65517241\n",
      " -0.5862069  -0.51724138 -0.44827586 -0.37931034 -0.31034483 -0.24137931\n",
      " -0.17241379 -0.10344828 -0.03448276  0.03448276  0.10344828  0.17241379\n",
      "  0.24137931  0.31034483  0.37931034  0.44827586  0.51724138  0.5862069\n",
      "  0.65517241  0.72413793  0.79310345  0.86206897  0.93103448  1.        ]\n"
     ]
    }
   ],
   "source": [
    "array2 = np.linspace(-1, 1, 30)\n",
    "print(array2)"
   ]
  },
  {
   "cell_type": "code",
   "execution_count": null,
   "id": "2c9419d3-8a74-442f-953f-fb77534624c2",
   "metadata": {},
   "outputs": [],
   "source": [
    "#8- Construct a 5x6 matrix with integers from 0 to 30.\n"
   ]
  },
  {
   "cell_type": "code",
   "execution_count": 16,
   "id": "2bd0a0c3-de3f-42dc-986b-2abbf112eb9c",
   "metadata": {},
   "outputs": [
    {
     "name": "stdout",
     "output_type": "stream",
     "text": [
      "[[ 0  1  2  3  4  5]\n",
      " [ 6  7  8  9 10 11]\n",
      " [12 13 14 15 16 17]\n",
      " [18 19 20 21 22 23]\n",
      " [24 25 26 27 28 29]]\n"
     ]
    }
   ],
   "source": [
    "matrix = np.arange(30).reshape((5, 6))\n",
    "print(matrix)"
   ]
  },
  {
   "cell_type": "code",
   "execution_count": null,
   "id": "4f3ec4c3-d41f-43fd-bc8d-6c0191816e48",
   "metadata": {},
   "outputs": [],
   "source": [
    "#9- Create an array of 30 random integers and sort it in ascending order.\n"
   ]
  },
  {
   "cell_type": "code",
   "execution_count": 19,
   "id": "0ed92774-eebb-4373-8189-25d31058d8dd",
   "metadata": {},
   "outputs": [],
   "source": [
    "my_array = np.random.randint(100, size=30) \n",
    "sorted_array = np.sort(my_array)"
   ]
  },
  {
   "cell_type": "code",
   "execution_count": 20,
   "id": "e461489d-9b94-477b-acd1-2a6a05623e7f",
   "metadata": {},
   "outputs": [
    {
     "name": "stdout",
     "output_type": "stream",
     "text": [
      "[ 1  1  2 14 20 20 21 21 23 29 32 37 48 51 52 57 59 60 63 71 74 74 75 82\n",
      " 86 87 87 88 92 99]\n"
     ]
    }
   ],
   "source": [
    "print(sorted_array)"
   ]
  },
  {
   "cell_type": "code",
   "execution_count": null,
   "id": "f4c3af4d-c9cb-446f-8efb-798560d1e429",
   "metadata": {},
   "outputs": [],
   "source": [
    "# 10- Construct a 5x10 matrix filled with the value 1 at each location. Print the following details about this matrix:\n"
   ]
  },
  {
   "cell_type": "code",
   "execution_count": 21,
   "id": "6e87a0e1-1306-4a45-b393-37577e387b7b",
   "metadata": {},
   "outputs": [
    {
     "name": "stdout",
     "output_type": "stream",
     "text": [
      "[[1 1 1 1 1 1 1 1 1 1]\n",
      " [1 1 1 1 1 1 1 1 1 1]\n",
      " [1 1 1 1 1 1 1 1 1 1]\n",
      " [1 1 1 1 1 1 1 1 1 1]\n",
      " [1 1 1 1 1 1 1 1 1 1]]\n",
      "Shape of the matrix: (5, 10)\n",
      "Data type of the elements: int32\n",
      "Total number of elements: 50\n"
     ]
    }
   ],
   "source": [
    "matrix = np.ones((5, 10), dtype=int)\n",
    "\n",
    "print(matrix)\n",
    "print(\"Shape of the matrix:\", matrix.shape)\n",
    "print(\"Data type of the elements:\", matrix.dtype)\n",
    "print(\"Total number of elements:\", matrix.size)"
   ]
  },
  {
   "cell_type": "code",
   "execution_count": null,
   "id": "bcb0a5e1-0022-4dc9-8342-0428d830dd01",
   "metadata": {},
   "outputs": [],
   "source": [
    "# 11- Construct a 3x4x7 matrix with random integer values between 0 and 10 (a 3D matrix will be created)."
   ]
  },
  {
   "cell_type": "code",
   "execution_count": 22,
   "id": "d641098a-df2b-4217-9a55-7495d52ec784",
   "metadata": {},
   "outputs": [
    {
     "name": "stdout",
     "output_type": "stream",
     "text": [
      "[[[10 10  9  2  6  3  8]\n",
      "  [ 2  4  2  6  4  8  6]\n",
      "  [ 1  3  8  1  9  8  9]\n",
      "  [ 4  1  3  6  7  2  0]]\n",
      "\n",
      " [[ 3  1  7  3  1  5  5]\n",
      "  [ 9  3  5  1  9  1  9]\n",
      "  [ 3  7  6  8  7  4  1]\n",
      "  [ 4  7  9  8  8  0  8]]\n",
      "\n",
      " [[ 6  8  7  0  7  7 10]\n",
      "  [ 2  0  7  2  2  0 10]\n",
      "  [ 4  9  6  9  8  6  8]\n",
      "  [ 7  1  0  6  6  7  4]]]\n"
     ]
    }
   ],
   "source": [
    "matrix_3d = np.random.randint(0, 11, size=(3, 4, 7))\n",
    "print(matrix_3d)"
   ]
  },
  {
   "cell_type": "code",
   "execution_count": null,
   "id": "d9dafe42-3d58-44f6-9816-5dc2eb4e38dc",
   "metadata": {},
   "outputs": [],
   "source": [
    "#12- Create an array of 20 random integers and reshape it into a 4x5 matrix."
   ]
  },
  {
   "cell_type": "code",
   "execution_count": 24,
   "id": "46a39b5f-225c-4859-8ffc-808512a6d6a3",
   "metadata": {},
   "outputs": [
    {
     "name": "stdout",
     "output_type": "stream",
     "text": [
      "[[76 50 62 95 51]\n",
      " [95  3 93 22 14]\n",
      " [42 28 35 12 31]\n",
      " [70 58 85 27 65]]\n"
     ]
    }
   ],
   "source": [
    "array = np.random.randint(0, 100, size=20)\n",
    "matrix = array.reshape((4, 5))\n",
    "\n",
    "print(matrix)"
   ]
  },
  {
   "cell_type": "code",
   "execution_count": null,
   "id": "5648fec4-7745-47a4-a010-d1f51f46c9bb",
   "metadata": {},
   "outputs": [],
   "source": [
    "#13- Construct a one-dimensional array by concetanating 4 separate one-dimensional arrays."
   ]
  },
  {
   "cell_type": "code",
   "execution_count": 25,
   "id": "1da89e29-32dc-4850-b6bf-0037fafdcc65",
   "metadata": {},
   "outputs": [
    {
     "name": "stdout",
     "output_type": "stream",
     "text": [
      "[ 1  2  3  4  5  6  7  8  9 10 11 12]\n"
     ]
    }
   ],
   "source": [
    "a = np.array([1, 2, 3])\n",
    "b = np.array([4, 5, 6])\n",
    "c = np.array([7, 8, 9])\n",
    "d = np.array([10, 11, 12])\n",
    "\n",
    "result = np.concatenate((a, b, c, d))\n",
    "\n",
    "print(result)"
   ]
  },
  {
   "cell_type": "code",
   "execution_count": null,
   "id": "a76381d1-b489-4ffc-8fbe-8503fcfc4a1e",
   "metadata": {},
   "outputs": [],
   "source": [
    "#14- Create a vector of length 3 (3x1) and a matrix of size 3x3. Combine these two arrays on a column-by-column basis using numpy methods."
   ]
  },
  {
   "cell_type": "code",
   "execution_count": null,
   "id": "0660e8ab-b1f3-44d9-83f9-069104f274e4",
   "metadata": {},
   "outputs": [],
   "source": []
  },
  {
   "cell_type": "code",
   "execution_count": 26,
   "id": "a43dbd07-e508-4524-bb91-4b817ceae057",
   "metadata": {},
   "outputs": [],
   "source": [
    "a = np.array([1, 2, 3]).reshape(-1, 1)\n",
    "b = np.random.randint(0, 10, (3, 3))"
   ]
  },
  {
   "cell_type": "code",
   "execution_count": 27,
   "id": "abfc5ade-ea5b-474e-b268-6bf43a0bc9ae",
   "metadata": {},
   "outputs": [
    {
     "data": {
      "text/plain": [
       "array([[1],\n",
       "       [2],\n",
       "       [3]])"
      ]
     },
     "execution_count": 27,
     "metadata": {},
     "output_type": "execute_result"
    }
   ],
   "source": [
    "a"
   ]
  },
  {
   "cell_type": "code",
   "execution_count": 28,
   "id": "6d04d350-277e-44d9-8ee6-7dc688747951",
   "metadata": {},
   "outputs": [
    {
     "data": {
      "text/plain": [
       "array([[9, 8, 4],\n",
       "       [5, 3, 9],\n",
       "       [6, 8, 6]])"
      ]
     },
     "execution_count": 28,
     "metadata": {},
     "output_type": "execute_result"
    }
   ],
   "source": [
    "b"
   ]
  },
  {
   "cell_type": "code",
   "execution_count": null,
   "id": "6281f668-7d7b-4df1-8f30-08f399026fb8",
   "metadata": {},
   "outputs": [],
   "source": [
    "# 15- What is the difference between \"axis=1\" and \"axis=0\" in Numpy functions?\n"
   ]
  },
  {
   "cell_type": "code",
   "execution_count": null,
   "id": "90781220-0c41-48fc-b215-10f34f8a6ef2",
   "metadata": {},
   "outputs": [],
   "source": [
    "# Axis=1 means the column of a matrix, Axis = 0 means the row of the matrix"
   ]
  },
  {
   "cell_type": "code",
   "execution_count": null,
   "id": "460052be-565c-4685-8328-685ef2727a7e",
   "metadata": {},
   "outputs": [],
   "source": [
    "# 16 - Create a random 1D vector with 20 elements. Find the 3rd, 5th and 7th elements of this vector."
   ]
  },
  {
   "cell_type": "code",
   "execution_count": 29,
   "id": "2ce821bd-015a-40e4-a3b0-85d9817eadb0",
   "metadata": {},
   "outputs": [
    {
     "name": "stdout",
     "output_type": "stream",
     "text": [
      "Vector:\n",
      " [61 96  0 26 61 76  2 69 71 26  8 61 36 96 50 43 23 78 58 31]\n",
      "Third element: 0\n",
      "Fifth element: 61\n",
      "Seventh element: 2\n"
     ]
    }
   ],
   "source": [
    "vec = np.random.randint(0, 100, 20)\n",
    "print(\"Vector:\\n\", vec)\n",
    "\n",
    "third = vec[2]\n",
    "fifth = vec[4]\n",
    "seventh = vec[6]\n",
    "\n",
    "print(\"Third element:\", third)\n",
    "print(\"Fifth element:\", fifth)\n",
    "print(\"Seventh element:\", seventh)"
   ]
  },
  {
   "cell_type": "code",
   "execution_count": null,
   "id": "1ae018db-0281-4f87-b16a-dcf744cd3c60",
   "metadata": {},
   "outputs": [],
   "source": [
    "#17 - Create a random vector with 10 elements and replace the 4th element of this array with a different number.\n"
   ]
  },
  {
   "cell_type": "code",
   "execution_count": 30,
   "id": "0abedc44-1cae-412b-8675-9d3add208a5e",
   "metadata": {},
   "outputs": [
    {
     "name": "stdout",
     "output_type": "stream",
     "text": [
      "Vector before replacement:\n",
      " [0.51879062 0.70301896 0.3636296  0.97178208 0.96244729 0.2517823\n",
      " 0.49724851 0.30087831 0.28484049 0.03688695]\n",
      "Vector after replacement:\n",
      " [0.51879062 0.70301896 0.3636296  0.5        0.96244729 0.2517823\n",
      " 0.49724851 0.30087831 0.28484049 0.03688695]\n"
     ]
    }
   ],
   "source": [
    "vec = np.random.rand(10)\n",
    "print(\"Vector before replacement:\\n\", vec)\n",
    "vec[3] = 0.5\n",
    "print(\"Vector after replacement:\\n\", vec)"
   ]
  },
  {
   "cell_type": "code",
   "execution_count": null,
   "id": "17fa9d18-42af-4786-b5f1-4313068c660d",
   "metadata": {},
   "outputs": [],
   "source": []
  }
 ],
 "metadata": {
  "kernelspec": {
   "display_name": "Python 3 (ipykernel)",
   "language": "python",
   "name": "python3"
  },
  "language_info": {
   "codemirror_mode": {
    "name": "ipython",
    "version": 3
   },
   "file_extension": ".py",
   "mimetype": "text/x-python",
   "name": "python",
   "nbconvert_exporter": "python",
   "pygments_lexer": "ipython3",
   "version": "3.9.12"
  }
 },
 "nbformat": 4,
 "nbformat_minor": 5
}
